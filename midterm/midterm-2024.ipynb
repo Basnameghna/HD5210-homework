{
  "cells": [
    {
      "cell_type": "markdown",
      "metadata": {
        "id": "UoLszHZetJmx"
      },
      "source": [
        "# HDS5210-2024 Midterm\n",
        "\n",
        "In the midterm, you're going to use all the programming and data management skills you've developed so far to build a risk calculator that pretends to be integrated with a clinical registry.  You'll compute the PRIEST COVID-19 Clinical Severity Score for a series of patients and, based on their risk of an adverse outcome, query a REST web service to find a hospital to transfer them to. The end result of your work will be a list of instructions on where each patient should be discharged given their risk and various characteristics of the patient.\n",
        "\n",
        "Each step in the midterm will build up to form your complete solution.\n",
        "\n",
        "**Make sure you write good docstrings and doctests along the way!!**\n",
        "\n",
        "**The midterm is due at 11:59 PM CST on Monday, October 24th.**\n",
        "\n",
        "---"
      ]
    },
    {
      "cell_type": "markdown",
      "metadata": {
        "id": "uotEaM4ktJmz"
      },
      "source": [
        "## Step 1: Calculate PRIEST Clinical Severity Score\n",
        "\n",
        "This scoring algorithm can be found [here on the MDCalc website](https://www.mdcalc.com/priest-covid-19-clinical-severity-score#evidence).  \n",
        "\n",
        "1. You will need to write a function called **priest()** with the following input parameters.  \n",
        " * Sex (Gender assigned at birth)\n",
        " * Age in years\n",
        " * Respiratory rate in breaths per minute\n",
        " * Oxygen saturation as a percent between 0 and 1\n",
        " * Heart rate in beats per minute\n",
        " * Systolic BP in mmHg\n",
        " * Temperature in degrees C\n",
        " * Alertness as a string description\n",
        " * Inspired Oxygen as as string description\n",
        " * Performance Status as a string description\n",
        "2. The function will need to follow the algorithm provided on the MDCalc website to compute a risk percentage that should be returned as a numeric value between 0 and 1.\n",
        "3. Be sure to use docstring documentation and at least three built-in docstring test cases.\n",
        "4. Assume that the input values that are strings could be any combination of upper or lower case. For example: 'male', 'Male', 'MALE', 'MalE' should all be interpretted by your code as male.\n",
        "5. If any of the inputs are invalid (for example a sex value that is not recognizable as male or female) your code should return None.\n",
        "\n",
        "NOTES:\n",
        "1. In the final step there is a table that translates from **PRIEST Score** to **30-day probability of an outcome** but the last two probabilities are shown as ranges (59-88% and >99%).  Our code needs to output a single number, however. For our code, use the following rule:\n",
        " * If PRIEST score is between 17 and 25, the probability you return should be 0.59\n",
        " * If PRIEST score is greater than or equal to 26, the probability you return should be 0.99\n"
      ]
    },
    {
      "cell_type": "code",
      "execution_count": 30,
      "metadata": {
        "id": "pB3ntgPLtJm0"
      },
      "outputs": [],
      "source": []
    },
    {
      "cell_type": "code",
      "execution_count": 31,
      "metadata": {
        "id": "rwlgNn9etJm0"
      },
      "outputs": [],
      "source": [
        "def priest(sex, age, resp_rate, oxygen_saturation, heart_rate, systolic_bp, temp, alertness, inspired_oxygen, performance_status):\n",
        "    \"\"\"\n",
        "    Calculate the PRIEST score and return the risk percentage based on input parameters.\n",
        "\n",
        "    Test Cases:\n",
        "    >>> priest('male', 45, 18, 0.96, 85, 120, 37.0, 'alert', 'air', 'unrestricted normal activity')\n",
        "    0.01\n",
        "    >>> priest('female', 60, 25, 0.93, 100, 105, 38.5, 'confused', 'supplemental oxygen', 'limited self-care')\n",
        "    0.59\n",
        "    >>> priest('male', 82, 30, 0.89, 140, 85, 39.5, 'confused', 'supplemental oxygen', 'bed/chair bound, no self-care')\n",
        "    0.99\n",
        "    \"\"\"\n",
        "    score = 0\n",
        "\n",
        "    # Normalize input for consistency\n",
        "    sex, alertness, inspired_oxygen, performance_status = sex.lower(), alertness.lower(), inspired_oxygen.lower(), performance_status.lower()\n",
        "\n",
        "    # Assign score based on sex\n",
        "    score += 1 if sex == 'male' else 0\n",
        "\n",
        "    # Age score\n",
        "    score += 2 if 50 <= age <= 65 else 3 if 66 <= age <= 80 else 4 if age > 80 else 0\n",
        "\n",
        "    # Respiratory rate score\n",
        "    score += 3 if resp_rate < 9 or resp_rate > 24 else 2 if 21 <= resp_rate <= 24 else 1 if 9 <= resp_rate <= 11 else 0\n",
        "\n",
        "    # Oxygen saturation score\n",
        "    score += 3 if oxygen_saturation < 0.92 else 2 if 0.92 <= oxygen_saturation <= 0.93 else 1 if 0.94 <= oxygen_saturation <= 0.95 else 0\n",
        "\n",
        "    # Heart rate score\n",
        "    score += 3 if heart_rate < 41 or heart_rate > 130 else 2 if 111 <= heart_rate <= 130 else 1 if 91 <= heart_rate <= 110 or 41 <= heart_rate <= 50 else 0\n",
        "\n",
        "    # Systolic BP score\n",
        "    score += 3 if systolic_bp < 91 or systolic_bp > 219 else 2 if 91 <= systolic_bp <= 100 else 1 if 101 <= systolic_bp <= 110 else 0\n",
        "\n",
        "    # Temperature score\n",
        "    score += 3 if temp < 35.1 else 2 if temp > 39.0 else 1 if 38.1 <= temp <= 39.0 or 35.1 <= temp <= 36.0 else 0\n",
        "\n",
        "    # Alertness score\n",
        "    score += 3 if alertness in ['confused', 'not alert'] else 0\n",
        "\n",
        "    # Inspired oxygen score\n",
        "    score += 2 if inspired_oxygen == 'supplemental oxygen' else 0\n",
        "\n",
        "    # Performance status score\n",
        "    score += 4 if performance_status == 'bed/chair bound, no self-care' else 3 if performance_status == 'limited self-care' else 2 if performance_status == 'limited activity, can self-care' else 1 if performance_status == 'limited strenuous activity, can do light activity' else 0\n",
        "\n",
        "    # Determine risk percentage from score\n",
        "    if score <= 1:\n",
        "        return 0.01\n",
        "    elif score == 2 or score == 3:\n",
        "        return 0.02\n",
        "    elif score == 4:\n",
        "        return 0.03\n",
        "    elif score == 5:\n",
        "        return 0.09\n",
        "    elif score == 6:\n",
        "        return 0.15\n",
        "    elif score == 7:\n",
        "        return 0.18\n",
        "    elif score == 8:\n",
        "        return 0.22\n",
        "    elif score == 9:\n",
        "        return 0.26\n",
        "    elif score == 10:\n",
        "        return 0.29\n",
        "    elif score == 11:\n",
        "        return 0.34\n",
        "    elif score == 12:\n",
        "        return 0.38\n",
        "    elif score == 13:\n",
        "        return 0.46\n",
        "    elif score == 14:\n",
        "        return 0.47\n",
        "    elif score == 15:\n",
        "        return 0.49\n",
        "    elif score == 16:\n",
        "        return 0.55\n",
        "    elif 17 <= score <= 25:\n",
        "        return 0.59\n",
        "    elif score >= 26:\n",
        "        return 0.99\n",
        "    else:\n",
        "        return None\n"
      ]
    },
    {
      "cell_type": "code",
      "execution_count": 32,
      "metadata": {
        "id": "ZvY-y44UtJm0",
        "outputId": "15839d31-31c2-46b6-e2ae-3fdadccdda92",
        "colab": {
          "base_uri": "https://localhost:8080/"
        }
      },
      "outputs": [
        {
          "output_type": "stream",
          "name": "stdout",
          "text": [
            "Finding tests in NoName\n",
            "Trying:\n",
            "    priest('male', 45, 18, 0.96, 85, 120, 37.0, 'alert', 'air', 'unrestricted normal activity')\n",
            "Expecting:\n",
            "    0.01\n",
            "ok\n",
            "Trying:\n",
            "    priest('female', 60, 25, 0.93, 100, 105, 38.5, 'confused', 'supplemental oxygen', 'limited self-care')\n",
            "Expecting:\n",
            "    0.59\n",
            "ok\n",
            "Trying:\n",
            "    priest('male', 82, 30, 0.89, 140, 85, 39.5, 'confused', 'supplemental oxygen', 'bed/chair bound, no self-care')\n",
            "Expecting:\n",
            "    0.99\n",
            "ok\n"
          ]
        }
      ],
      "source": [
        "import doctest\n",
        "doctest.run_docstring_examples(priest, globals(),verbose=True)"
      ]
    },
    {
      "cell_type": "markdown",
      "metadata": {
        "id": "k5W8b-HGtJm1"
      },
      "source": [
        "## Part 2: Find a hospital\n",
        "\n",
        "The next thing we have to do is figure out where to send this particular patient.  The guidelines on where to send a patient are based on their age (pediatric, adult, geriatric), sex, and risk percentage.  Luckily, you don't have to implement these rules. I already have. All you have to do is use a REST web service that I've created for you.\n",
        "\n",
        "You'll want to use Python to make a call to my REST web service similar to the example URL below. The first part of the URL will be the same for everyone and every request that you make. What you will need to modify for each of your requests is the information after the question mark.\n",
        "\n",
        "```\n",
        "https://oumdj6oci2.execute-api.us-east-1.amazonaws.com/prd/?age=40&sex=male&risk_pct=0.1\n",
        "```\n",
        "\n",
        "The example above asks my web service where a 40-year old male with a risk of 10% should go.  What the web service will return back is a JSON string containing the information you need.  That JSON will look like this:\n",
        "\n",
        "```json\n",
        "{\n",
        "  \"age\": \"40\",\n",
        "  \"sex\": \"male\",\n",
        "  \"risk\": \"0.1\",\n",
        "  \"hospital\": \"Southwest Hospital and Medical Center\"\n",
        "}\n",
        "```\n",
        "\n",
        "My function is not smart enough to understand `'MALE'` is the same as `'male'`.  You have to send it exactly `'male'` or `'female'`\n",
        "\n",
        "1. Your job is to write a function called **find_hospital()** that takes age, sex, and risk as parameters.\n",
        "2. Your function should call this REST web service using the `requests` module\n",
        "3. Then your function will need to interpret the JSON it gets and return just the name of the hospital\n",
        "4. If anything fails, return None\n",
        "5. Include a good docstring with at least three test cases.\n"
      ]
    },
    {
      "cell_type": "code",
      "execution_count": 33,
      "metadata": {
        "id": "JczC9yrFtJm2"
      },
      "outputs": [],
      "source": [
        "import requests\n",
        "\n",
        "def find_hospital(age, sex, risk):\n",
        "    \"\"\"\n",
        "    Retrieve the appropriate hospital based on age, sex, and risk percentage.\n",
        "\n",
        "    Test Cases:\n",
        "    >>> find_hospital(40, 'male', 0.1)\n",
        "    'Southwest Hospital and Medical Center'\n",
        "\n",
        "    >>> find_hospital(65, 'female', 0.2)\n",
        "    'Wesley Woods Geriatric Hospital'\n",
        "\n",
        "    >>> find_hospital(85, 'female', 0.75)\n",
        "    'Wesley Woods Geriatric Hospital'\n",
        "    \"\"\"\n",
        "\n",
        "    sex = sex.lower()\n",
        "    if sex not in ['male', 'female']:\n",
        "        return None\n",
        "\n",
        "    base_url = \"https://oumdj6oci2.execute-api.us-east-1.amazonaws.com/prd/\"\n",
        "    params = f\"?age={age}&sex={sex}&risk_pct={risk}\"\n",
        "    url = base_url + params\n",
        "    try:\n",
        "        response = requests.get(url)\n",
        "        if response.status_code == 200:\n",
        "            data = response.json()\n",
        "            return data.get('hospital', None)\n",
        "        else:\n",
        "            return None\n",
        "    except Exception:\n",
        "\n",
        "        return None\n"
      ]
    },
    {
      "cell_type": "code",
      "execution_count": 34,
      "metadata": {
        "id": "QRf82LyrtJm2",
        "outputId": "d2983fff-45b3-46fc-e1da-cbe087cb5a5b",
        "colab": {
          "base_uri": "https://localhost:8080/"
        }
      },
      "outputs": [
        {
          "output_type": "stream",
          "name": "stdout",
          "text": [
            "Finding tests in NoName\n",
            "Trying:\n",
            "    find_hospital(40, 'male', 0.1)\n",
            "Expecting:\n",
            "    'Southwest Hospital and Medical Center'\n",
            "ok\n",
            "Trying:\n",
            "    find_hospital(65, 'female', 0.2)\n",
            "Expecting:\n",
            "    'Wesley Woods Geriatric Hospital'\n",
            "ok\n",
            "Trying:\n",
            "    find_hospital(85, 'female', 0.75)\n",
            "Expecting:\n",
            "    'Wesley Woods Geriatric Hospital'\n",
            "ok\n"
          ]
        }
      ],
      "source": [
        "import doctest\n",
        "doctest.run_docstring_examples(find_hospital, globals(),verbose=True)"
      ]
    },
    {
      "cell_type": "markdown",
      "metadata": {
        "id": "0KSpY1UftJm2"
      },
      "source": [
        "## Part 3: Get the address for that hospital from a JSON file\n",
        "\n",
        "Great! Now we have code to tell us which hospital to send someone to... but we don't know where that hospital is. The next function we need to create is one that looks up the address of that hospital.  All of these hospitals are in Atlanta, Georgia.  We're going to use the list from this webpage to lookup the address for that hospital, based on its name.  https://www.officialusa.com/stateguides/health/hospitals/georgia.html\n",
        "\n",
        "Because we skipped the section about Beautiful Soup and working with HTML, I've converted this information into a JSON document for you.  It's available for you here.  Your code should retrieve this file using the `requests` module.\n",
        "\n",
        "`https://drive.google.com/uc?export=download&id=1fIFD-NkcdiMu941N4GjyMDWxiKsFJBw-`\n",
        "\n",
        "1. You need to create a function called **get_address()** that takes hospital name as a parameter and searches the data from this JSON file for the hospital you want to find.\n",
        "2. Your code will have to load the JSON and return the correct hospital based on name.\n",
        "3. If the hospital name isn't found, the function should return None.\n",
        "4. Be sure to use good docstring documentation and includes at least 3 test cases."
      ]
    },
    {
      "cell_type": "code",
      "execution_count": 35,
      "metadata": {
        "id": "dp75ffCmtJm2",
        "outputId": "b218827f-4e97-4afd-b35c-d235da540dab",
        "colab": {
          "base_uri": "https://localhost:8080/"
        }
      },
      "outputs": [
        {
          "output_type": "stream",
          "name": "stdout",
          "text": [
            "501 FAIRBURN ROAD SW\n",
            "1821 CLIFTON ROAD, NE\n",
            "None\n"
          ]
        }
      ],
      "source": [
        "import requests\n",
        "import json\n",
        "\n",
        "def get_address(hospital_name):\n",
        "    \"\"\"\n",
        "    Retrieve the address of the specified hospital by name.\n",
        "\n",
        "    Test Cases:\n",
        "    >>> get_address('Southwest Hospital and Medical Center')\n",
        "    '501 FAIRBURN ROAD SW'\n",
        "\n",
        "    >>> get_address('Wesley Woods Geriatric Hospital')\n",
        "    '1821 CLIFTON ROAD NE'\n",
        "\n",
        "    >>> get_address('Nonexistent Hospital')\n",
        "    None\n",
        "    \"\"\"\n",
        "\n",
        "    json_url = 'https://drive.google.com/uc?export=download&id=1fIFD-NkcdiMu941N4GjyMDWxiKsFJBw-'\n",
        "\n",
        "    try:\n",
        "\n",
        "        response = requests.get(json_url)\n",
        "        response.raise_for_status()\n",
        "\n",
        "        hospitals_data = response.json()\n",
        "\n",
        "        for hospital, details in hospitals_data.items():\n",
        "            if hospital.lower() == hospital_name.lower():\n",
        "                return details.get('ADDRESS', None)\n",
        "\n",
        "        return None\n",
        "\n",
        "    except requests.exceptions.RequestException as e:\n",
        "\n",
        "        return None\n",
        "\n",
        "print(get_address('Southwest Hospital and Medical Center'))\n",
        "print(get_address('Wesley Woods Geriatric Hospital'))\n",
        "print(get_address('Nonexistent Hospital'))\n"
      ]
    },
    {
      "cell_type": "markdown",
      "metadata": {
        "id": "4yU1GswTtJm3"
      },
      "source": [
        "## Part 4: Run the risk calculator on a population\n",
        "\n",
        "At the link below, there is a file called `people.psv`.  It is a pipe-delimited (`|`) file with columns that match the inputs for the PRIEST calculation above.  Your code should use the `requests` module to retrieve the file from this URL.\n",
        "\n",
        "`https://drive.google.com/uc?export=download&id=1fLxJN9YGUqmqExrilxSS8furwUER5HHh`\n",
        "\n",
        "\n",
        "In addition, the file has a patient identifier in the first column.\n",
        "\n",
        "1. Write a function called **process_people()** that takes the file location above as its only parameter. Your Python program should use your code above to process all of these rows, determine the hospital and address, and return a list whose items are a dictionary like this: `{ patient_number: [sex, age, breath, o2sat, heart, systolic, temp, alertness, inspired, status, hospital, address]}`.  Look at the file in Part 5 for what the output looks like.\n",
        "2. Be sure to use good docstrings, but you don't need any tests in your doc strings.  I've provided those for you withe file in Part 5.\n",
        "\n",
        "\n",
        "**NOTE** that when running your code for all the 100 records in the `people.psv` file, it may take a few minutes to complete.  You're making multiple calls to the internet for each record, so that can take a little while.\n"
      ]
    },
    {
      "cell_type": "code",
      "execution_count": null,
      "metadata": {
        "id": "S2swtPD_tJm3"
      },
      "outputs": [],
      "source": [
        "import requests\n",
        "\n",
        "def process_people(file_url):\n",
        "\n",
        "    response = requests.get(file_url)\n",
        "\n",
        "    if response.status_code != 200:\n",
        "        return None\n",
        "\n",
        "    people_data = response.text.splitlines()\n",
        "\n",
        "    results = []\n",
        "\n",
        "    for line in people_data[1:]:\n",
        "        patient_data = line.split('|')\n",
        "\n",
        "        patient_number = patient_data[0]\n",
        "        sex = patient_data[1]\n",
        "        age = int(patient_data[2])\n",
        "        resp_rate = float(patient_data[3])\n",
        "        oxygen_saturation = float(patient_data[4])\n",
        "        heart_rate = float(patient_data[5])\n",
        "        systolic_bp = float(patient_data[6])\n",
        "        temp = float(patient_data[7])\n",
        "        alertness = patient_data[8]\n",
        "        inspired_oxygen = patient_data[9]\n",
        "        performance_status = patient_data[10]\n",
        "\n",
        "        risk_percentage = priest(sex, age, resp_rate, oxygen_saturation, heart_rate, systolic_bp, temp, alertness, inspired_oxygen, performance_status)\n",
        "\n",
        "        if risk_percentage is None:\n",
        "            continue\n",
        "\n",
        "        # Check for hospital, print details even if hospital is None\n",
        "        hospital = find_hospital(age, sex, risk_percentage)\n",
        "\n",
        "        if hospital is None:\n",
        "            print(f\"Patient {patient_number} - No hospital found. Risk: {risk_percentage}\")\n",
        "\n",
        "        address = get_address(hospital) if hospital is not None else \"N/A\"\n",
        "\n",
        "        patient_info = {\n",
        "            patient_number: [sex, age, resp_rate, oxygen_saturation, heart_rate, systolic_bp, temp, alertness, inspired_oxygen, performance_status, risk_percentage, hospital or \"No hospital\", address]\n",
        "        }\n",
        "\n",
        "        results.append(patient_info)\n",
        "\n",
        "    return results\n",
        "\n",
        "\n",
        "file_url = 'https://drive.google.com/uc?export=download&id=1fLxJN9YGUqmqExrilxSS8furwUER5HHh'\n",
        "process_people(file_url)\n"
      ]
    },
    {
      "cell_type": "markdown",
      "metadata": {
        "id": "wbjpbAgwtJm3"
      },
      "source": [
        "## Part 5: Checking your final results\n",
        "\n",
        "The final step is to check your results.  You should be able to compare your results to the output in `people_results.json` at the link below.  Write some code to check your results.  This does not need to be a function.\n",
        "\n",
        "`https://drive.google.com/uc?export=download&id=1gx1SSC20mO5XL6uYD0mdcM_cL91fcIW5`\n"
      ]
    },
    {
      "cell_type": "code",
      "execution_count": 30,
      "metadata": {
        "id": "SjVFy0cftJm3",
        "outputId": "fd5e87cf-76d2-4ccc-9a9a-157d5c8e2212",
        "colab": {
          "base_uri": "https://localhost:8080/"
        }
      },
      "outputs": [
        {
          "output_type": "stream",
          "name": "stdout",
          "text": [
            "There are differences between the results.\n",
            "{'E9559': ['FEMALE', 40, 24.0, 0.96, 105.0, 115.0, 34.9, 'ALERT', 'AIR', 'unrestricted normal activity', 0.15, 'Select Specialty Hospital - Northeast Atlanta', '1821 CLIFTON ROAD NE']}\n",
            "{'E9385': ['Female', 51, 19.0, 0.99, 90.0, 91.0, 38.1, 'ALERT', 'supplemental oxygen', 'unrestricted normal activity', 0.18, 'Select Specialty Hospital - Northeast Atlanta', '1821 CLIFTON ROAD NE']}\n",
            "{'E3067': ['female', 40, 29.0, 0.96, 105.0, 95.0, 38.1, 'ALERT', 'air', 'unrestricted normal activity', 0.18, 'Select Specialty Hospital - Northeast Atlanta', '1821 CLIFTON ROAD NE']}\n",
            "{'E9422': ['FEMALE', 66, 19.0, 0.96, 135.0, 115.0, 38.1, 'ALERT', 'AIR', 'bed/chair bound, no self-care', 0.34, 'Wesley Woods Geriatric Hospital', '1821 CLIFTON ROAD, NE']}\n",
            "{'E8661': ['MALE', 18, 22.0, 0.95, 105.0, 115.0, 36.3, 'Confused or Not Alert', 'air', 'unrestricted normal activity', 0.09, 'Southwest Hospital and Medical Center', '501 FAIRBURN ROAD SW']}\n",
            "{'E6235': ['Male', 16, 23.0, 0.96, 135.0, 115.0, 39.2, 'ALERT', 'supplemental oxygen', 'unrestricted normal activity', 0.29, 'Childrens Healthcare of Atlanta at Scottish Rite', '1001 JOHNSON FERRY RD']}\n",
            "{'E4451': ['MALE', 40, 8.0, 0.96, 135.0, 115.0, 38.1, 'ALERT', 'AIR', 'unrestricted normal activity', 0.22, 'Southwest Hospital and Medical Center', '501 FAIRBURN ROAD SW']}\n",
            "{'E8433': ['FEMALE', 40, 23.0, 0.99, 89.0, 91.0, 38.1, 'ALERT', 'AIR', 'limited self-care', 0.22, 'Select Specialty Hospital - Northeast Atlanta', '1821 CLIFTON ROAD NE']}\n",
            "{'E7593': ['FEMALE', 80, 23.0, 0.96, 105.0, 115.0, 38.1, 'ALERT', 'supplemental oxygen', 'limited activity, can self-care', 0.34, 'Wesley Woods Geriatric Hospital', '1821 CLIFTON ROAD, NE']}\n",
            "{'E3296': ['MALE', 51, 23.0, 0.95, 105.0, 115.0, 38.1, 'ALERT', 'AIR', 'unrestricted normal activity', 0.22, 'Southwest Hospital and Medical Center', '501 FAIRBURN ROAD SW']}\n",
            "{'E4157': ['FEMALE', 40, 23.0, 0.96, 41.0, 115.0, 35.4, 'ALERT', 'AIR', 'unrestricted normal activity', 0.03, 'Select Specialty Hospital - Northeast Atlanta', '1821 CLIFTON ROAD NE']}\n",
            "{'E7702': ['FEMALE', 40, 22.0, 0.96, 105.0, 115.0, 38.1, 'ALERT', 'supplemental oxygen', 'unrestricted normal activity', 0.15, 'Select Specialty Hospital - Northeast Atlanta', '1821 CLIFTON ROAD NE']}\n",
            "{'E8158': ['MALE', 40, 20.0, 0.99, 135.0, 115.0, 39.2, 'ALERT', 'AIR', 'unrestricted normal activity', 0.15, 'Southwest Hospital and Medical Center', '501 FAIRBURN ROAD SW']}\n",
            "{'E4795': ['female', 80, 11.0, 0.93, 105.0, 95.0, 40.8, 'ALERT', 'AIR', 'limited activity, can self-care', 0.46, 'Wesley Woods Geriatric Hospital', '1821 CLIFTON ROAD, NE']}\n",
            "{'E8800': ['MALE', 80, 22.0, 0.96, 105.0, 115.0, 39.2, 'confused or not alert', 'AIR', 'limited activity, can self-care', 0.34, 'Wesley Woods Geriatric Hospital', '1821 CLIFTON ROAD, NE']}\n",
            "{'E4855': ['female', 51, 23.0, 0.94, 135.0, 115.0, 38.1, 'ALERT', 'AIR', 'limited strenuous activity, can do light activity', 0.29, 'Select Specialty Hospital - Northeast Atlanta', '1821 CLIFTON ROAD NE']}\n",
            "{'E9691': ['Male', 16, 10.0, 0.96, 105.0, 115.0, 38.1, 'ALERT', 'AIR', 'unrestricted normal activity', 0.03, 'Childrens Healthcare of Atlanta at Scottish Rite', '1001 JOHNSON FERRY RD']}\n",
            "{'E4535': ['FEMALE', 19, 11.0, 0.99, 105.0, 115.0, 35.4, 'ALERT', 'AIR', 'unrestricted normal activity', 0.02, 'Select Specialty Hospital - Northeast Atlanta', '1821 CLIFTON ROAD NE']}\n",
            "{'E2360': ['Male', 40, 20.0, 0.96, 51.0, 95.0, 34.9, 'alert', 'supplemental oxygen', 'unrestricted normal activity', 0.22, 'Southwest Hospital and Medical Center', '501 FAIRBURN ROAD SW']}\n",
            "{'E3447': ['MALE', 80, 22.0, 0.96, 41.0, 115.0, 38.1, 'ALERT', 'AIR', 'limited activity, can self-care', 0.29, 'Wesley Woods Geriatric Hospital', '1821 CLIFTON ROAD, NE']}\n",
            "{'E8208': ['FEMALE', 18, 23.0, 0.96, 135.0, 115.0, 38.1, 'ALERT', 'AIR', 'unrestricted normal activity', 0.15, 'Select Specialty Hospital - Northeast Atlanta', '1821 CLIFTON ROAD NE']}\n",
            "{'E4428': ['FEMALE', 40, 23.0, 0.96, 38.0, 115.0, 36.3, 'ALERT', 'AIR', 'unrestricted normal activity', 0.09, 'Select Specialty Hospital - Northeast Atlanta', '1821 CLIFTON ROAD NE']}\n",
            "{'E2766': ['Male', 18, 23.0, 0.96, 105.0, 115.0, 34.9, 'ALERT', 'AIR', 'unrestricted normal activity', 0.18, 'Southwest Hospital and Medical Center', '501 FAIRBURN ROAD SW']}\n",
            "{'E3888': ['FEMALE', 51, 19.0, 0.96, 135.0, 115.0, 34.9, 'ALERT', 'AIR', 'unrestricted normal activity', 0.22, 'Select Specialty Hospital - Northeast Atlanta', '1821 CLIFTON ROAD NE']}\n",
            "{'E7110': ['female', 85, 24.0, 0.99, 105.0, 101.0, 40.8, 'Confused or Not Alert', 'AIR', 'unrestricted normal activity', 0.29, 'Wesley Woods Geriatric Hospital', '1821 CLIFTON ROAD, NE']}\n",
            "{'E2668': ['FEMALE', 18, 22.0, 0.96, 105.0, 101.0, 38.1, 'ALERT', 'AIR', 'unrestricted normal activity', 0.09, 'Select Specialty Hospital - Northeast Atlanta', '1821 CLIFTON ROAD NE']}\n",
            "{'E8482': ['Male', 40, 22.0, 0.96, 105.0, 230.0, 36.3, 'ALERT', 'AIR', 'limited self-care', 0.29, 'Southwest Hospital and Medical Center', '501 FAIRBURN ROAD SW']}\n",
            "{'E9619': ['FEMALE', 40, 11.0, 0.98, 41.0, 115.0, 38.1, 'ALERT', 'AIR', 'unrestricted normal activity', 0.02, 'Select Specialty Hospital - Northeast Atlanta', '1821 CLIFTON ROAD NE']}\n",
            "{'E1700': ['male', 40, 23.0, 0.96, 105.0, 115.0, 38.1, 'Confused or Not Alert', 'AIR', 'unrestricted normal activity', 0.09, 'Southwest Hospital and Medical Center', '501 FAIRBURN ROAD SW']}\n",
            "{'E8585': ['MALE', 19, 8.0, 0.96, 105.0, 115.0, 36.3, 'alert', 'AIR', 'bed/chair bound, no self-care', 0.26, 'Southwest Hospital and Medical Center', '501 FAIRBURN ROAD SW']}\n",
            "{'E8633': ['FEMALE', 40, 22.0, 0.96, 38.0, 91.0, 35.4, 'ALERT', 'AIR', 'unrestricted normal activity', 0.22, 'Select Specialty Hospital - Northeast Atlanta', '1821 CLIFTON ROAD NE']}\n",
            "{'E2117': ['FEMALE', 16, 22.0, 0.96, 135.0, 115.0, 39.2, 'Confused or Not Alert', 'supplemental oxygen', 'bed/chair bound, no self-care', 0.46, 'Hughes Spalding Childrens Hospital', '1711 TULLIE CIRCLE NE']}\n",
            "{'E2322': ['female', 18, 22.0, 0.96, 105.0, 115.0, 38.1, 'alert', 'supplemental oxygen', 'unrestricted normal activity', 0.15, 'Select Specialty Hospital - Northeast Atlanta', '1821 CLIFTON ROAD NE']}\n",
            "{'E6912': ['FEMALE', 51, 23.0, 0.96, 105.0, 95.0, 34.9, 'ALERT', 'AIR', 'unrestricted normal activity', 0.29, 'Select Specialty Hospital - Northeast Atlanta', '1821 CLIFTON ROAD NE']}\n",
            "{'E5702': ['Male', 80, 23.0, 0.96, 135.0, 115.0, 38.1, 'ALERT', 'AIR', 'unrestricted normal activity', 0.29, 'Wesley Woods Geriatric Hospital', '1821 CLIFTON ROAD, NE']}\n",
            "{'E5513': ['FEMALE', 18, 12.0, 0.96, 105.0, 115.0, 38.1, 'ALERT', 'AIR', 'unrestricted normal activity', 0.02, 'Select Specialty Hospital - Northeast Atlanta', '1821 CLIFTON ROAD NE']}\n",
            "{'E1861': ['FEMALE', 18, 22.0, 0.96, 105.0, 230.0, 38.1, 'ALERT', 'AIR', 'limited strenuous activity, can do light activity', 0.22, 'Select Specialty Hospital - Northeast Atlanta', '1821 CLIFTON ROAD NE']}\n",
            "{'E4809': ['FEMALE', 40, 22.0, 0.96, 41.0, 230.0, 38.1, 'ALERT', 'AIR', 'unrestricted normal activity', 0.18, 'Select Specialty Hospital - Northeast Atlanta', '1821 CLIFTON ROAD NE']}\n",
            "{'E1365': ['MALE', 22, 22.0, 0.96, 115.0, 101.0, 35.4, 'ALERT', 'AIR', 'bed/chair bound, no self-care', 0.34, 'Emory Dunwoody Medical Center', '4500 NORTH SHALLOWFORD ROAD']}\n",
            "{'E5984': ['Male', 40, 12.0, 0.93, 105.0, 91.0, 35.1, 'ALERT', 'AIR', 'limited activity, can self-care', 0.26, 'Southwest Hospital and Medical Center', '501 FAIRBURN ROAD SW']}\n",
            "{'E7013': ['FEMALE', 66, 23.0, 0.96, 135.0, 89.0, 40.8, 'ALERT', 'supplemental oxygen', 'unrestricted normal activity', 0.49, 'Wesley Woods Geriatric Hospital', '1821 CLIFTON ROAD, NE']}\n",
            "{'E2331': ['female', 18, 23.0, 0.98, 105.0, 115.0, 38.1, 'ALERT', 'AIR', 'limited self-care', 0.18, 'Select Specialty Hospital - Northeast Atlanta', '1821 CLIFTON ROAD NE']}\n",
            "{'E9938': ['MALE', 18, 12.0, 0.96, 105.0, 89.0, 35.1, 'ALERT', 'AIR', 'unrestricted normal activity', 0.15, 'Southwest Hospital and Medical Center', '501 FAIRBURN ROAD SW']}\n",
            "{'E5121': ['Female', 18, 23.0, 0.96, 41.0, 95.0, 38.1, 'ALERT', 'supplemental oxygen', 'limited activity, can self-care', 0.29, 'Select Specialty Hospital - Northeast Atlanta', '1821 CLIFTON ROAD NE']}\n",
            "{'E9280': ['male', 65, 10.0, 0.96, 135.0, 91.0, 38.1, 'ALERT', 'AIR', 'unrestricted normal activity', 0.29, 'Wesley Woods Geriatric Hospital', '1821 CLIFTON ROAD, NE']}\n",
            "{'E4762': ['FEMALE', 40, 12.0, 0.98, 105.0, 95.0, 38.1, 'ALERT', 'AIR', 'unrestricted normal activity', 0.03, 'Select Specialty Hospital - Northeast Atlanta', '1821 CLIFTON ROAD NE']}\n",
            "{'E6885': ['MALE', 18, 23.0, 0.93, 89.0, 115.0, 35.1, 'confused or not alert', 'AIR', 'limited activity, can self-care', 0.22, 'Southwest Hospital and Medical Center', '501 FAIRBURN ROAD SW']}\n",
            "{'E1695': ['FEMALE', 40, 22.0, 0.96, 41.0, 115.0, 38.1, 'ALERT', 'AIR', 'unrestricted normal activity', 0.03, 'Select Specialty Hospital - Northeast Atlanta', '1821 CLIFTON ROAD NE']}\n",
            "{'E9658': ['Female', 18, 10.0, 0.96, 90.0, 230.0, 38.1, 'ALERT', 'AIR', 'limited self-care', 0.22, 'Select Specialty Hospital - Northeast Atlanta', '1821 CLIFTON ROAD NE']}\n",
            "{'E1961': ['FEMALE', 65, 23.0, 0.96, 105.0, 115.0, 40.8, 'ALERT', 'AIR', 'limited activity, can self-care', 0.26, 'Wesley Woods Geriatric Hospital', '1821 CLIFTON ROAD, NE']}\n",
            "{'E9154': ['FEMALE', 66, 8.0, 0.94, 105.0, 89.0, 35.4, 'alert', 'AIR', 'bed/chair bound, no self-care', 0.55, 'Wesley Woods Geriatric Hospital', None]}\n",
            "{'E9417': ['FEMALE', 40, 23.0, 0.96, 105.0, 95.0, 38.1, 'alert', 'AIR', 'unrestricted normal activity', 0.15, 'Select Specialty Hospital - Northeast Atlanta', '1821 CLIFTON ROAD NE']}\n",
            "{'E9979': ['Male', 18, 8.0, 0.96, 105.0, 115.0, 38.1, 'ALERT', 'AIR', 'limited strenuous activity, can do light activity', 0.18, 'Southwest Hospital and Medical Center', '501 FAIRBURN ROAD SW']}\n",
            "{'E9316': ['MALE', 18, 23.0, 0.96, 135.0, 115.0, 38.1, 'ALERT', 'AIR', 'unrestricted normal activity', 0.18, 'Southwest Hospital and Medical Center', '501 FAIRBURN ROAD SW']}\n",
            "{'E8146': ['Male', 18, 12.0, 0.96, 115.0, 115.0, 38.1, 'ALERT', 'AIR', 'unrestricted normal activity', 0.03, 'Southwest Hospital and Medical Center', '501 FAIRBURN ROAD SW']}\n",
            "{'E3093': ['female', 40, 29.0, 0.96, 105.0, 95.0, 38.1, 'ALERT', 'AIR', 'unrestricted normal activity', 0.18, 'Select Specialty Hospital - Northeast Atlanta', '1821 CLIFTON ROAD NE']}\n",
            "{'E8829': ['male', 65, 12.0, 0.96, 51.0, 230.0, 38.1, 'alert', 'AIR', 'unrestricted normal activity', 0.18, 'Wesley Woods Geriatric Hospital', '1821 CLIFTON ROAD, NE']}\n",
            "{'E1453': ['male', 18, 24.0, 0.99, 105.0, 115.0, 38.1, 'ALERT', 'AIR', 'unrestricted normal activity', 0.09, 'Southwest Hospital and Medical Center', '501 FAIRBURN ROAD SW']}\n",
            "{'E5777': ['female', 66, 23.0, 0.96, 115.0, 89.0, 38.1, 'ALERT', 'AIR', 'limited strenuous activity, can do light activity', 0.38, 'Wesley Woods Geriatric Hospital', '1821 CLIFTON ROAD, NE']}\n",
            "{'E4564': ['FEMALE', 18, 24.0, 0.96, 41.0, 115.0, 35.1, 'confused or not alert', 'AIR', 'unrestricted normal activity', 0.03, 'Select Specialty Hospital - Northeast Atlanta', '1821 CLIFTON ROAD NE']}\n",
            "{'E1904': ['FEMALE', 40, 22.0, 0.93, 38.0, 95.0, 38.1, 'Confused or Not Alert', 'AIR', 'unrestricted normal activity', 0.29, 'Select Specialty Hospital - Northeast Atlanta', '1821 CLIFTON ROAD NE']}\n",
            "{'E8746': ['Female', 40, 12.0, 0.93, 105.0, 115.0, 38.1, 'ALERT', 'AIR', 'unrestricted normal activity', 0.03, 'Select Specialty Hospital - Northeast Atlanta', '1821 CLIFTON ROAD NE']}\n",
            "{'E9165': ['FEMALE', 19, 22.0, 0.98, 50.0, 95.0, 38.1, 'ALERT', 'AIR', 'limited activity, can self-care', 0.22, 'Select Specialty Hospital - Northeast Atlanta', '1821 CLIFTON ROAD NE']}\n",
            "{'E9305': ['FEMALE', 40, 8.0, 0.89, 105.0, 101.0, 38.1, 'ALERT', 'supplemental oxygen', 'unrestricted normal activity', 0.34, 'Emory Dunwoody Medical Center', '4500 NORTH SHALLOWFORD ROAD']}\n",
            "{'E3217': ['Female', 40, 10.0, 0.95, 105.0, 95.0, 38.1, 'ALERT', 'AIR', 'unrestricted normal activity', 0.15, 'Select Specialty Hospital - Northeast Atlanta', '1821 CLIFTON ROAD NE']}\n",
            "{'E3127': ['Female', 40, 8.0, 0.96, 38.0, 115.0, 36.3, 'ALERT', 'AIR', 'limited strenuous activity, can do light activity', 0.18, 'Select Specialty Hospital - Northeast Atlanta', '1821 CLIFTON ROAD NE']}\n",
            "{'E7501': ['female', 18, 23.0, 0.96, 135.0, 115.0, 38.1, 'ALERT', 'AIR', 'unrestricted normal activity', 0.15, 'Select Specialty Hospital - Northeast Atlanta', '1821 CLIFTON ROAD NE']}\n",
            "{'E4997': ['female', 40, 23.0, 0.94, 105.0, 115.0, 36.3, 'ALERT', 'AIR', 'unrestricted normal activity', 0.03, 'Select Specialty Hospital - Northeast Atlanta', '1821 CLIFTON ROAD NE']}\n",
            "{'E6181': ['female', 19, 23.0, 0.96, 89.0, 115.0, 38.1, 'ALERT', 'AIR', 'unrestricted normal activity', 0.02, 'Select Specialty Hospital - Northeast Atlanta', '1821 CLIFTON ROAD NE']}\n",
            "{'E1073': ['FEMALE', 18, 24.0, 0.95, 50.0, 115.0, 38.1, 'Confused or Not Alert', 'AIR', 'limited self-care', 0.22, 'Select Specialty Hospital - Northeast Atlanta', '1821 CLIFTON ROAD NE']}\n",
            "{'E9608': ['female', 80, 12.0, 0.96, 50.0, 89.0, 38.1, 'ALERT', 'AIR', 'unrestricted normal activity', 0.22, 'Wesley Woods Geriatric Hospital', '1821 CLIFTON ROAD, NE']}\n",
            "{'E7663': ['FEMALE', 18, 11.0, 0.96, 105.0, 115.0, 38.1, 'ALERT', 'air', 'limited self-care', 0.15, 'Select Specialty Hospital - Northeast Atlanta', '1821 CLIFTON ROAD NE']}\n",
            "{'E7648': ['female', 66, 12.0, 0.98, 41.0, 115.0, 34.9, 'ALERT', 'air', 'unrestricted normal activity', 0.18, 'Wesley Woods Geriatric Hospital', '1821 CLIFTON ROAD, NE']}\n",
            "{'E1883': ['male', 40, 10.0, 0.98, 105.0, 115.0, 38.1, 'ALERT', 'AIR', 'unrestricted normal activity', 0.03, 'Southwest Hospital and Medical Center', '501 FAIRBURN ROAD SW']}\n",
            "{'E2001': ['FEMALE', 18, 12.0, 0.99, 51.0, 115.0, 38.1, 'Confused or Not Alert', 'AIR', 'unrestricted normal activity', 0.01, 'Select Specialty Hospital - Northeast Atlanta', '1821 CLIFTON ROAD NE']}\n",
            "{'E2418': ['male', 18, 20.0, 0.94, 105.0, 115.0, 35.4, 'ALERT', 'air', 'unrestricted normal activity', 0.03, 'Southwest Hospital and Medical Center', '501 FAIRBURN ROAD SW']}\n",
            "{'E3739': ['Male', 85, 10.0, 0.96, 105.0, 115.0, 38.1, 'Confused or Not Alert', 'supplemental oxygen', 'unrestricted normal activity', 0.29, 'Wesley Woods Geriatric Hospital', '1821 CLIFTON ROAD, NE']}\n",
            "{'E8351': ['FEMALE', 40, 23.0, 0.96, 90.0, 101.0, 38.1, 'ALERT', 'AIR', 'unrestricted normal activity', 0.03, 'Select Specialty Hospital - Northeast Atlanta', '1821 CLIFTON ROAD NE']}\n",
            "{'E2882': ['Male', 51, 24.0, 0.98, 105.0, 91.0, 38.1, 'ALERT', 'AIR', 'unrestricted normal activity', 0.26, 'Southwest Hospital and Medical Center', '501 FAIRBURN ROAD SW']}\n",
            "{'E1902': ['Female', 85, 22.0, 0.96, 105.0, 115.0, 38.1, 'ALERT', 'supplemental oxygen', 'unrestricted normal activity', 0.29, 'Wesley Woods Geriatric Hospital', '1821 CLIFTON ROAD, NE']}\n",
            "{'E2155': ['Male', 18, 22.0, 0.94, 105.0, 115.0, 38.1, 'ALERT', 'air', 'limited self-care', 0.26, 'Southwest Hospital and Medical Center', '501 FAIRBURN ROAD SW']}\n",
            "{'E4345': ['Female', 40, 19.0, 0.89, 41.0, 115.0, 34.9, 'ALERT', 'air', 'unrestricted normal activity', 0.18, 'Select Specialty Hospital - Northeast Atlanta', '1821 CLIFTON ROAD NE']}\n",
            "{'E4194': ['FEMALE', 40, 12.0, 0.95, 105.0, 91.0, 38.1, 'ALERT', 'AIR', 'limited self-care', 0.22, 'Select Specialty Hospital - Northeast Atlanta', '1821 CLIFTON ROAD NE']}\n",
            "{'E5211': ['male', 65, 22.0, 0.96, 41.0, 115.0, 38.1, 'ALERT', 'AIR', 'unrestricted normal activity', 0.18, 'Wesley Woods Geriatric Hospital', '1821 CLIFTON ROAD, NE']}\n",
            "{'E5488': ['Female', 40, 12.0, 0.94, 105.0, 101.0, 38.1, 'ALERT', 'AIR', 'unrestricted normal activity', 0.03, 'Select Specialty Hospital - Northeast Atlanta', '1821 CLIFTON ROAD NE']}\n",
            "{'E8560': ['FEMALE', 40, 23.0, 0.96, 41.0, 115.0, 35.1, 'confused or not alert', 'AIR', 'unrestricted normal activity', 0.03, 'Select Specialty Hospital - Northeast Atlanta', '1821 CLIFTON ROAD NE']}\n",
            "{'E2995': ['FEMALE', 18, 20.0, 0.99, 105.0, 95.0, 35.1, 'alert', 'AIR', 'unrestricted normal activity', 0.03, 'Select Specialty Hospital - Northeast Atlanta', '1821 CLIFTON ROAD NE']}\n",
            "{'E3422': ['FEMALE', 40, 8.0, 0.96, 105.0, 115.0, 35.4, 'ALERT', 'AIR', 'unrestricted normal activity', 0.09, 'Select Specialty Hospital - Northeast Atlanta', '1821 CLIFTON ROAD NE']}\n",
            "{'E7707': ['Female', 18, 20.0, 0.96, 38.0, 115.0, 36.3, 'ALERT', 'air', 'limited strenuous activity, can do light activity', 0.03, 'Select Specialty Hospital - Northeast Atlanta', '1821 CLIFTON ROAD NE']}\n",
            "{'E3119': ['FEMALE', 18, 20.0, 0.99, 135.0, 89.0, 35.1, 'ALERT', 'supplemental oxygen', 'unrestricted normal activity', 0.26, 'Select Specialty Hospital - Northeast Atlanta', '1821 CLIFTON ROAD NE']}\n",
            "{'E1419': ['male', 65, 23.0, 0.99, 105.0, 91.0, 38.1, 'alert', 'AIR', 'unrestricted normal activity', 0.26, 'Wesley Woods Geriatric Hospital', '1821 CLIFTON ROAD, NE']}\n",
            "{'E7748': ['male', 40, 23.0, 0.93, 105.0, 115.0, 38.1, 'ALERT', 'supplemental oxygen', 'unrestricted normal activity', 0.26, 'Southwest Hospital and Medical Center', '501 FAIRBURN ROAD SW']}\n",
            "{'E7251': ['Female', 40, 12.0, 0.96, 105.0, 91.0, 38.1, 'alert', 'AIR', 'unrestricted normal activity', 0.03, 'Select Specialty Hospital - Northeast Atlanta', '1821 CLIFTON ROAD NE']}\n",
            "{'E1235': ['FEMALE', 40, 29.0, 0.96, 41.0, 115.0, 38.1, 'ALERT', 'AIR', 'bed/chair bound, no self-care', 0.26, 'Select Specialty Hospital - Northeast Atlanta', '1821 CLIFTON ROAD NE']}\n",
            "{'E5361': ['FEMALE', 18, 22.0, 0.93, 90.0, 101.0, 38.1, 'confused or not alert', 'AIR', 'unrestricted normal activity', 0.15, 'Select Specialty Hospital - Northeast Atlanta', '1821 CLIFTON ROAD NE']}\n",
            "{'E7130': ['FEMALE', 18, 22.0, 0.96, 50.0, 115.0, 38.1, 'ALERT', 'AIR', 'limited strenuous activity, can do light activity', 0.09, 'Select Specialty Hospital - Northeast Atlanta', '1821 CLIFTON ROAD NE']}\n",
            "{'E5665': ['FEMALE', 85, 23.0, 0.96, 115.0, 115.0, 38.1, 'ALERT', 'AIR', 'unrestricted normal activity', 0.26, 'Wesley Woods Geriatric Hospital', '1821 CLIFTON ROAD, NE']}\n",
            "{'E9957': ['Female', 40, 22.0, 0.98, 89.0, 230.0, 38.1, 'alert', 'AIR', 'unrestricted normal activity', 0.15, 'Select Specialty Hospital - Northeast Atlanta', '1821 CLIFTON ROAD NE']}\n",
            "{'E10000': ['FEMALE', 18, 23.0, 0.96, 105.0, 101.0, 38.1, 'ALERT', 'AIR', 'limited activity, can self-care', 0.18, 'Select Specialty Hospital - Northeast Atlanta', '1821 CLIFTON ROAD NE']}\n"
          ]
        }
      ],
      "source": [
        "import requests\n",
        "import json\n",
        "\n",
        "file_url = 'https://drive.google.com/uc?export=download&id=1fLxJN9YGUqmqExrilxSS8furwUER5HHh'\n",
        "results_from_code = process_people(file_url)\n",
        "\n",
        "expected_results_url = 'https://drive.google.com/uc?export=download&id=1gx1SSC20mO5XL6uYD0mdcM_cL91fcIW5'\n",
        "response = requests.get(expected_results_url)\n",
        "\n",
        "if response.status_code == 200:\n",
        "    expected_results = response.json()\n",
        "else:\n",
        "    print(\"Failed to retrieve the expected results file.\")\n",
        "    expected_results = None\n",
        "\n",
        "if expected_results is not None and results_from_code is not None:\n",
        "    if results_from_code == expected_results:\n",
        "        print(\"The results match!\")\n",
        "    else:\n",
        "        print(\"There are differences between the results.\")\n",
        "\n",
        "        for result, expected in zip(results_from_code, expected_results):\n",
        "            if result != expected:\n",
        "                print(f\"{result}\")\n",
        "else:\n",
        "    print(\"Unable to perform comparison due to missing data.\")\n"
      ]
    },
    {
      "cell_type": "markdown",
      "metadata": {
        "id": "34igMLOjtJm3"
      },
      "source": [
        "---\n",
        "\n",
        "## Check your work above\n",
        "\n",
        "If you didn't get them all correct, take a few minutes to think through those that aren't correct.\n",
        "\n",
        "\n",
        "## Submitting Your Work\n",
        "\n",
        "Submit your work as usual into a folder named `midterm`"
      ]
    },
    {
      "cell_type": "markdown",
      "metadata": {
        "id": "5M7cFmuotJm3"
      },
      "source": [
        "---"
      ]
    }
  ],
  "metadata": {
    "kernelspec": {
      "display_name": "Python 3",
      "language": "python",
      "name": "python3"
    },
    "language_info": {
      "codemirror_mode": {
        "name": "ipython",
        "version": 3
      },
      "file_extension": ".py",
      "mimetype": "text/x-python",
      "name": "python",
      "nbconvert_exporter": "python",
      "pygments_lexer": "ipython3",
      "version": "3.9.6"
    },
    "colab": {
      "provenance": []
    }
  },
  "nbformat": 4,
  "nbformat_minor": 0
}